{
  "metadata": {
    "kernelspec": {
      "name": "python",
      "display_name": "Pyolite",
      "language": "python"
    },
    "language_info": {
      "codemirror_mode": {
        "name": "python",
        "version": 3
      },
      "file_extension": ".py",
      "mimetype": "text/x-python",
      "name": "python",
      "nbconvert_exporter": "python",
      "pygments_lexer": "ipython3",
      "version": "3.8"
    }
  },
  "nbformat_minor": 4,
  "nbformat": 4,
  "cells": [
    {
      "cell_type": "markdown",
      "source": "<center>\n    <img src=\"https://cf-courses-data.s3.us.cloud-object-storage.appdomain.cloud/IBMDeveloperSkillsNetwork-DS0105EN-SkillsNetwork/labs/Module2/images/SN_web_lightmode.png\" width=\"300\" alt=\"cognitiveclass.ai logo\"  />\n</center>\n",
      "metadata": {}
    },
    {
      "cell_type": "markdown",
      "source": "# \"My Juypter Noteboo on IBM Watson Studio\"",
      "metadata": {}
    },
    {
      "cell_type": "markdown",
      "source": " **Alvin Chastanet**\n   Data Analyst",
      "metadata": {}
    },
    {
      "cell_type": "markdown",
      "source": "*I would to be a data analyst because of the limtitless areas it can help solve porblem*",
      "metadata": {}
    },
    {
      "cell_type": "code",
      "source": "### Solve a problem",
      "metadata": {},
      "execution_count": null,
      "outputs": []
    },
    {
      "cell_type": "code",
      "source": "1+1",
      "metadata": {
        "trusted": true
      },
      "execution_count": 2,
      "outputs": [
        {
          "execution_count": 2,
          "output_type": "execute_result",
          "data": {
            "text/plain": "2"
          },
          "metadata": {}
        }
      ]
    },
    {
      "cell_type": "markdown",
      "source": ">Today is Monday.\n>\n>It is sunny.\n\nI am happy.  \nTo go to the beach.\n\n<!-- (!) [Full moon!] (/https://www.bing.com/images/search?view=detailV2&ccid=HlqvP%2bHO&id=51175FE469E097A10EE8B9C4E23F4B44764B5204&thid=OIP.HlqvP-HOZ7LHG8K6pAobNwHaFC&mediaurl=https%3a%2f%2ftownsquare.media%2fsite%2f706%2ffiles%2f2020%2f10%2fGettyImages-489164549.jpg%3fw%3d1200%26h%3d0%26zc%3d1%26s%3d0%26a%3dt%26q%3d89&cdnurl=https%3a%2f%2fth.bing.com%2fth%2fid%2fR.1e5aaf3fe1ce67b2c71bc2baa40a1b37%3frik%3dBFJLdkRLP%252bLEuQ%26pid%3dImgRaw%26r%3d0&exph=817&expw=1200&q=moon&simid=608028135399230154&FORM=IRPRST&ck=ED65066827F92593D2E50780B8433F36&selectedIndex=3&ajaxhist=0&ajaxserp=0)\n",
      "metadata": {}
    }
  ]
}